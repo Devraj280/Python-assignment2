{
  "nbformat": 4,
  "nbformat_minor": 0,
  "metadata": {
    "colab": {
      "provenance": [],
      "authorship_tag": "ABX9TyPAYZzbHXjkP7qk6mFpwlDk",
      "include_colab_link": true
    },
    "kernelspec": {
      "name": "python3",
      "display_name": "Python 3"
    },
    "language_info": {
      "name": "python"
    }
  },
  "cells": [
    {
      "cell_type": "markdown",
      "metadata": {
        "id": "view-in-github",
        "colab_type": "text"
      },
      "source": [
        "<a href=\"https://colab.research.google.com/github/Devraj280/Python-assignment2/blob/main/TDP2.ipynb\" target=\"_parent\"><img src=\"https://colab.research.google.com/assets/colab-badge.svg\" alt=\"Open In Colab\"/></a>"
      ]
    },
    {
      "cell_type": "markdown",
      "source": [
        "# Task-1\n",
        "Task 1: Check if a Number is Even or Odd\n",
        "Problem Statement:  Write a Python program that:\n",
        "1. \tTakes an integer input from the user.\n",
        "2. \tChecks whether the number is even or odd using an if-else statement.\n",
        "3. \tDisplays the result accordingly.\n"
      ],
      "metadata": {
        "id": "NJqAGkEfcQCy"
      }
    },
    {
      "cell_type": "code",
      "execution_count": null,
      "metadata": {
        "colab": {
          "base_uri": "https://localhost:8080/"
        },
        "id": "1sud7KvqcKEd",
        "outputId": "e50efb6d-41c6-40db-821d-119c985b29b2"
      },
      "outputs": [
        {
          "output_type": "stream",
          "name": "stdout",
          "text": [
            "Enter a number: 10\n",
            "10 is an even number\n"
          ]
        }
      ],
      "source": [
        "a=int(input(\"Enter a number: \"))\n",
        "if a%2==0:\n",
        "  print(str(a)+\" is an even number\")\n",
        "else:\n",
        "  print(str(a)+\" is an odd number\")"
      ]
    },
    {
      "cell_type": "markdown",
      "source": [
        "# Task-2\n",
        "Task 2: Sum of Integers from 1 to 50 Using a Loop\n",
        "\n",
        "Problem Statement: Write a Python program that:\n",
        "1.   Uses a for loop to iterate over numbers from 1 to 50.\n",
        "2.   Calculates the sum of all integers in this range.\n",
        "3.   Displays the final sum.\n",
        "\n"
      ],
      "metadata": {
        "id": "V4DYN9-ec_yj"
      }
    },
    {
      "cell_type": "code",
      "source": [
        "temp=0\n",
        "for i in range(1,51):\n",
        "  temp+=i\n",
        "print(\"The sum of numbers from 1 to 50 is:\"+str(temp))"
      ],
      "metadata": {
        "colab": {
          "base_uri": "https://localhost:8080/"
        },
        "id": "90XQDyLicp6E",
        "outputId": "8d5ac980-9aac-48b8-d14e-d0a9600b8f48"
      },
      "execution_count": null,
      "outputs": [
        {
          "output_type": "stream",
          "name": "stdout",
          "text": [
            "The sum of numbers from 1 to 50 is:1275\n"
          ]
        }
      ]
    },
    {
      "cell_type": "code",
      "source": [],
      "metadata": {
        "id": "PBA66uZVdX88"
      },
      "execution_count": null,
      "outputs": []
    }
  ]
}